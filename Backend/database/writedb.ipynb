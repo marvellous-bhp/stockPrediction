{
 "cells": [
  {
   "cell_type": "code",
   "execution_count": 85,
   "metadata": {},
   "outputs": [],
   "source": [
    "import mysql.connector\n",
    "import json\n",
    "import uuid\n",
    "import pandas as pd"
   ]
  },
  {
   "cell_type": "code",
   "execution_count": 86,
   "metadata": {},
   "outputs": [],
   "source": [
    "# Connection parameters\n",
    "host = 'localhost'\n",
    "user = 'root'\n",
    "password = 'Ncgncg1102@'\n",
    "database = 'stock_prediction'"
   ]
  },
  {
   "cell_type": "code",
   "execution_count": 87,
   "metadata": {},
   "outputs": [
    {
     "name": "stderr",
     "output_type": "stream",
     "text": [
      "<>:1: SyntaxWarning: invalid escape sequence '\\D'\n",
      "<>:1: SyntaxWarning: invalid escape sequence '\\D'\n",
      "C:\\Users\\GIANG\\AppData\\Local\\Temp\\ipykernel_704\\2085821978.py:1: SyntaxWarning: invalid escape sequence '\\D'\n",
      "  data=\"C:\\\\Users\\\\GIANG\\DAC_Project\\\\Project_python\\\\2024-dn-python-stockprediction\\\\crawlData\\\\data.json\"\n"
     ]
    }
   ],
   "source": [
    "data=\"C:\\\\Users\\\\GIANG\\DAC_Project\\\\Project_python\\\\2024-dn-python-stockprediction\\\\crawlData\\\\data.json\"\n",
    "with open(data,'r') as file:\n",
    "  data=json.load(file)"
   ]
  },
  {
   "cell_type": "code",
   "execution_count": 88,
   "metadata": {},
   "outputs": [],
   "source": [
    "symbols=list(data.keys())\n",
    "name_symbols=[\"Ngân hàng TMCP Á Châu\",\"Ngân hàng TMCP Đầu tư và Phát triển Việt Nam\",\"Ngân hàng TMCP Công Thương Việt Nam\",\"Ngân hàng TMCP Xuất nhập khẩu Việt Nam\",\"Ngân hàng TMCP Phát triển TP.HCM\",\"Ngân hàng TMCP Quân Đội\",\"Ngân hàng TMCP Hàng hải Việt Nam\",\"Ngân hàng TMCP Phương Đông\",\"Ngân hàng TMCP Sài Gòn – Hà Nội\",\"Ngân hàng TMCP Đông Nam Á\",\"Ngân hàng TMCP Sài Gòn Thương Tín\",\"Ngân hàng TMCP Kỹ thương Việt Nam\",\"Ngân hàng TMCP Tiên Phong\",\"Ngân hàng TMCP Ngoại Thương Việt Nam\",\"Ngân hàng TMCP Quốc tế Việt Nam\",\"Ngân hàng TMCP Việt Nam Thịnh Vượng\",\"Ngân hàng TMCP Quốc Dân\",\"Ngân hàng TMCP Bắc Á\"]"
   ]
  },
  {
   "cell_type": "code",
   "execution_count": 89,
   "metadata": {},
   "outputs": [],
   "source": [
    "stocks=[]\n",
    "for symbol in symbols:\n",
    "  stocks.append(list(data[symbol].values()))\n",
    "previous_close_prices=[]\n",
    "for stock in stocks:\n",
    "      previous_close_prices.append(eval(stock[0])[\"close\"])\n"
   ]
  },
  {
   "cell_type": "code",
   "execution_count": 90,
   "metadata": {},
   "outputs": [],
   "source": [
    "stock_ids=[]\n",
    "for i in range (len(stocks)):\n",
    "    stock_ids.append(str(uuid.uuid4()))"
   ]
  },
  {
   "cell_type": "code",
   "execution_count": 91,
   "metadata": {},
   "outputs": [],
   "source": [
    "#create data insert to stocklist\n",
    "data_stock_list_inserts=[]\n",
    "for i in range(len(stocks)):\n",
    "    data_stock_list_inserts.append((stock_ids[i],symbols[i],name_symbols[i],float(previous_close_prices[i].replace(',', ''))))"
   ]
  },
  {
   "cell_type": "code",
   "execution_count": 92,
   "metadata": {},
   "outputs": [],
   "source": [
    "#convert dict to dataframe\n",
    "from ast import literal_eval  \n",
    "def convert_str_to_float(str_num):\n",
    "    return float(str_num.replace(',', ''))\n",
    "def convert_dict_to_df(data_dict):\n",
    "    data = {key: literal_eval(value) for key, value in data_dict.items()}\n",
    "    df = pd.DataFrame.from_dict(data, orient='index')\n",
    "    df.index = pd.to_datetime(df.index, format='%d/%m/%Y')\n",
    "    df = df.map(convert_str_to_float)\n",
    "    df=df.sort_index(ascending=True)\n",
    "    return df"
   ]
  },
  {
   "cell_type": "code",
   "execution_count": 93,
   "metadata": {},
   "outputs": [],
   "source": [
    "data_historys=[]\n",
    "for symbol in symbols:\n",
    "  data_historys.append(data[symbol])\n",
    "data_history_dfs=[]\n",
    "for data_history in data_historys:\n",
    "    data_history_dfs.append(convert_dict_to_df(data_history))"
   ]
  },
  {
   "cell_type": "code",
   "execution_count": 94,
   "metadata": {},
   "outputs": [],
   "source": [
    "# Create a list to store the data inserts\n",
    "data_history_inserts = []\n",
    "\n",
    "for stockid, dataframe in zip(stock_ids, data_history_dfs):\n",
    "    for index, row in dataframe.iterrows():\n",
    "        \n",
    "        date = row.name.date()  \n",
    "        open_price = row['open']  \n",
    "        high_price = row['high'] \n",
    "        low_price = row['low']  \n",
    "        close_price = row['close']  \n",
    "        volume = row['volume']  \n",
    "        record = (stockid, str(date), open_price, high_price, low_price, close_price, volume)\n",
    "       \n",
    "        data_history_inserts.append(record)"
   ]
  },
  {
   "cell_type": "code",
   "execution_count": 95,
   "metadata": {},
   "outputs": [],
   "source": [
    "# #insert to db\n",
    "# try:\n",
    "#     conn = mysql.connector.connect(\n",
    "#         host=host,\n",
    "#         user=user,\n",
    "#         password=password,\n",
    "#         database=database\n",
    "#     )\n",
    "\n",
    "#     if conn.is_connected():\n",
    "#         print(\"Connected to MySQL\")\n",
    "        \n",
    "#         cursor = conn.cursor()\n",
    "#         insert_stocklist_query = \"INSERT INTO stocklist (stockid, symbol, company_name,previous_close_price) VALUES (%s, %s, %s,%s)\"\n",
    "#         cursor.executemany(insert_stocklist_query, data_stock_list_inserts)\n",
    "\n",
    "#         insert_stock_hist_query = \"INSERT INTO stockhistory (stockid, date, open, high, low, close, volume) VALUES (%s, %s, %s, %s, %s, %s, %s)\"\n",
    "#         cursor.executemany(insert_stock_hist_query, data_history_inserts)\n",
    "#         conn.commit()\n",
    "\n",
    "#         cursor.close()\n",
    "#         conn.close()\n",
    "\n",
    "# except mysql.connector.Error as e:\n",
    "#     print(f\"Error: {e}\")\n",
    "# finally:\n",
    "#     if conn.is_connected():\n",
    "#         cursor.close()\n",
    "#         conn.close()\n",
    "#         print(\"MySQL connection closed\")"
   ]
  }
 ],
 "metadata": {
  "kernelspec": {
   "display_name": "Python 3",
   "language": "python",
   "name": "python3"
  },
  "language_info": {
   "codemirror_mode": {
    "name": "ipython",
    "version": 3
   },
   "file_extension": ".py",
   "mimetype": "text/x-python",
   "name": "python",
   "nbconvert_exporter": "python",
   "pygments_lexer": "ipython3",
   "version": "3.12.1"
  }
 },
 "nbformat": 4,
 "nbformat_minor": 2
}
