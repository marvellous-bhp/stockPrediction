{
 "cells": [
  {
   "cell_type": "code",
   "execution_count": 7,
   "metadata": {},
   "outputs": [],
   "source": [
    "from selenium import webdriver\n",
    "from selenium.webdriver.common.by import By\n",
    "from selenium.webdriver.support.ui import WebDriverWait\n",
    "from selenium.webdriver.support import expected_conditions as EC\n",
    "from bs4 import BeautifulSoup\n",
    "import json\n",
    "import time\n"
   ]
  },
  {
   "cell_type": "code",
   "execution_count": 8,
   "metadata": {},
   "outputs": [],
   "source": [
    "banks_hose = ['ACB', 'BID', 'CTG','EIB', 'HDB', 'MBB', 'MSB','OCB','SHB','SSB','STB','TCB','TPB','VCB','VIB','VPB']\n",
    "banks_hnx = ['NVB', 'BAB']\n",
    "data = {}\n",
    "\n",
    "\n",
    "class Stock:\n",
    "    def __init__(self, date, open, high, low, close, volume):\n",
    "        self.date = date\n",
    "        self.open = open\n",
    "        self.high = high\n",
    "        self.low = low\n",
    "        self.close = close\n",
    "        self.volume = volume"
   ]
  },
  {
   "cell_type": "code",
   "execution_count": 9,
   "metadata": {},
   "outputs": [],
   "source": [
    "def get_data_from_web(bank):\n",
    "    print('bank',bank)\n",
    "    driver = webdriver.Chrome()\n",
    "    url = f'https://simplize.vn/co-phieu/{bank}/lich-su-gia'\n",
    "    driver.get(url)\n",
    "\n",
    "    data[bank]={}\n",
    "    time.sleep(3) \n",
    "    \n",
    "    \n",
    "\n",
    "    html = driver.page_source\n",
    "    soup = BeautifulSoup(html, 'html.parser')\n",
    "\n",
    "    tbody = soup.find('tbody', class_='simplize-table-tbody')\n",
    "    tr_simplize_table_row = tbody.findAll('tr',class_='simplize-table-row')\n",
    "    for i in range(1,4):\n",
    "        h6_css_cvilom = tr_simplize_table_row[i].findAll('h6',class_='css-cvilom')\n",
    "        stockHistory={}\n",
    "        date = h6_css_cvilom[0].text.strip()\n",
    "        stockHistory['open'] = h6_css_cvilom[1].text.strip()\n",
    "        stockHistory['high'] = h6_css_cvilom[2].text.strip()\n",
    "        stockHistory['low'] = h6_css_cvilom[3].text.strip()\n",
    "        stockHistory['close'] = h6_css_cvilom[4].text.strip()\n",
    "        stockHistory['volume'] = h6_css_cvilom[5].text.strip()\n",
    "\n",
    "        data[bank][date] = str(stockHistory)\n",
    "    time.sleep(5)\n",
    "    \n",
    "    return data[bank]"
   ]
  },
  {
   "cell_type": "markdown",
   "metadata": {},
   "source": []
  },
  {
   "cell_type": "code",
   "execution_count": 10,
   "metadata": {},
   "outputs": [],
   "source": [
    "def saveData(data):\n",
    "    # Chuyển đổi dữ liệu thành chuỗi JSON\n",
    "    json_data = json.dumps(data, indent=4)  # `indent` làm cho dữ liệu được hiển thị có cấu trúc\n",
    "    # print('json',json_data)\n",
    "\n",
    "    # Ghi dữ liệu JSON vào tệp\n",
    "    with open('datacop.json', 'w') as json_file:\n",
    "        json_file.write(json_data)"
   ]
  },
  {
   "cell_type": "code",
   "execution_count": 11,
   "metadata": {},
   "outputs": [
    {
     "name": "stdout",
     "output_type": "stream",
     "text": [
      "bank ACB\n",
      "bank BID\n",
      "bank CTG\n",
      "bank EIB\n",
      "bank HDB\n",
      "bank MBB\n",
      "bank MSB\n",
      "bank OCB\n",
      "bank SHB\n",
      "bank SSB\n",
      "bank STB\n",
      "bank TCB\n",
      "bank TPB\n",
      "bank VCB\n",
      "bank VIB\n",
      "bank VPB\n",
      "bank NVB\n",
      "bank BAB\n"
     ]
    }
   ],
   "source": [
    "for bank in banks_hose:\n",
    "    data[bank] = {}\n",
    "    data[bank] = get_data_from_web(bank)\n",
    "    saveData(data)\n",
    "\n",
    "\n",
    "for bank in banks_hnx:\n",
    "    data[bank] = {}\n",
    "    data[bank] = get_data_from_web(bank)\n",
    "    saveData(data)"
   ]
  },
  {
   "cell_type": "code",
   "execution_count": null,
   "metadata": {},
   "outputs": [],
   "source": [
    "\n",
    "\n"
   ]
  }
 ],
 "metadata": {
  "kernelspec": {
   "display_name": "Python 3",
   "language": "python",
   "name": "python3"
  },
  "language_info": {
   "codemirror_mode": {
    "name": "ipython",
    "version": 3
   },
   "file_extension": ".py",
   "mimetype": "text/x-python",
   "name": "python",
   "nbconvert_exporter": "python",
   "pygments_lexer": "ipython3",
   "version": "3.12.1"
  }
 },
 "nbformat": 4,
 "nbformat_minor": 2
}
